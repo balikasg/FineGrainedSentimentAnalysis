{
 "cells": [
  {
   "cell_type": "markdown",
   "metadata": {},
   "source": [
    "# Twitter Sentiment Analysis for Grenoble Data Science Meet-up\n",
    "**Author**: Georgios Balikas, *January 10, 2018*\n",
    "\n",
    "\n",
    "The notebook contains the code used to perform the feature extraction and model selection steps that are described in my meet-up presentation. \n",
    "\n",
    "The cells describe a machine learning pipeline where one:\n",
    "1. Loads the data\n",
    "2. Performs feature extraction using basically the bag-of-words representation\n",
    "3. Some feature engineering\n",
    "4. Performance evaluation using linear model (Logistic Regression and SVMs)\n",
    "\n",
    "In terms of evaluation I decided to report the macro-averaged $F_1$ measure because I wanted to motivate performing well to across all classes (including the rare ones). Of course,  adpting the code to report more measures or even optimizing for other measures is very simple and encouraged. "
   ]
  },
  {
   "cell_type": "code",
   "execution_count": 16,
   "metadata": {
    "collapsed": false
   },
   "outputs": [],
   "source": [
    "import numpy as np, pandas as pd, matplotlib.pyplot as plt, seaborn, re\n",
    "%matplotlib inline\n",
    "from sklearn.feature_extraction.text import TfidfVectorizer, CountVectorizer\n",
    "from sklearn.linear_model import LogisticRegression\n",
    "from sklearn.preprocessing import normalize\n",
    "from sklearn.svm import LinearSVC\n",
    "from collections import Counter\n",
    "from sklearn.model_selection import cross_val_score\n",
    "from scipy.sparse import hstack\n",
    "from sklearn.model_selection import GridSearchCV\n",
    "from sklearn.pipeline import Pipeline\n",
    "pd.options.display.max_colwidth = 200\n",
    "from sklearn.metrics import f1_score\n"
   ]
  },
  {
   "cell_type": "markdown",
   "metadata": {},
   "source": [
    "We will use the data released in the context of Task 4 of the SemEval 2017 challenges. \n",
    "\n",
    "More details for the task are at: http://alt.qcri.org/semeval2017/task4/\n",
    "\n",
    "The data can be downloaded at https://www.dropbox.com/s/qqvokdtalf0kgs2/2017_English_final.zip\n",
    "\n",
    "By downloading the data you confirm respecting the Twitter Terms of use, as they are also described by the SemEval Task 4 organisers. \n",
    "\n",
    "That said, let's start by loading and doing some basic data exploration.\n",
    "\n",
    "\n",
    "## Load training data and perform some exploratory analysis"
   ]
  },
  {
   "cell_type": "code",
   "execution_count": 3,
   "metadata": {
    "collapsed": false
   },
   "outputs": [
    {
     "name": "stdout",
     "output_type": "stream",
     "text": [
      "('Data loaded. Shape:', (6000, 4))\n"
     ]
    },
    {
     "name": "stderr",
     "output_type": "stream",
     "text": [
      "/home/ama/balikas/balikasENV/lib/python2.7/site-packages/ipykernel/__main__.py:2: ParserWarning: Falling back to the 'python' engine because the 'c' engine does not support regex separators (separators > 1 char and different from '\\s+' are interpreted as regex); you can avoid this warning by specifying engine='python'.\n",
      "  from ipykernel import kernelapp as app\n"
     ]
    }
   ],
   "source": [
    "train_data = pd.read_csv(\"./2017_English_final/GOLD/Subtasks_CE/twitter-2016train-CE.txt\", sep=\"\\t+\", encoding=\"utf8\", \n",
    "                          names=[\"id\", \"topic\", \"score\", \"text\"], )\n",
    "print(\"Data loaded. Shape:\", train_data.shape)\n",
    "x_train_text = train_data.text.values # will be used for feature extraction and engineering later.\n",
    "y_train = train_data.score.values # These are the categories that we will try to predict. "
   ]
  },
  {
   "cell_type": "markdown",
   "metadata": {},
   "source": [
    "Let's print the first columns of the dataframe to see how the data look."
   ]
  },
  {
   "cell_type": "code",
   "execution_count": 4,
   "metadata": {
    "collapsed": false
   },
   "outputs": [
    {
     "data": {
      "text/html": [
       "<div>\n",
       "<style>\n",
       "    .dataframe thead tr:only-child th {\n",
       "        text-align: right;\n",
       "    }\n",
       "\n",
       "    .dataframe thead th {\n",
       "        text-align: left;\n",
       "    }\n",
       "\n",
       "    .dataframe tbody tr th {\n",
       "        vertical-align: top;\n",
       "    }\n",
       "</style>\n",
       "<table border=\"1\" class=\"dataframe\">\n",
       "  <thead>\n",
       "    <tr style=\"text-align: right;\">\n",
       "      <th></th>\n",
       "      <th>id</th>\n",
       "      <th>topic</th>\n",
       "      <th>score</th>\n",
       "      <th>text</th>\n",
       "    </tr>\n",
       "  </thead>\n",
       "  <tbody>\n",
       "    <tr>\n",
       "      <th>0</th>\n",
       "      <td>628949369883000832</td>\n",
       "      <td>@microsoft</td>\n",
       "      <td>-1</td>\n",
       "      <td>dear @Microsoft the newOoffice for Mac is great and all, but no Lync update? C'mon.</td>\n",
       "    </tr>\n",
       "    <tr>\n",
       "      <th>1</th>\n",
       "      <td>628976607420645377</td>\n",
       "      <td>@microsoft</td>\n",
       "      <td>-2</td>\n",
       "      <td>@Microsoft how about you make a system that doesn't eat my friggin discs. This is the 2nd time this has happened and I am so sick of it!</td>\n",
       "    </tr>\n",
       "    <tr>\n",
       "      <th>2</th>\n",
       "      <td>629023169169518592</td>\n",
       "      <td>@microsoft</td>\n",
       "      <td>-1</td>\n",
       "      <td>I may be ignorant on this issue but... should we celebrate @Microsoft's parental leave changes? Doesn't the gender divide suggest... (1/2)</td>\n",
       "    </tr>\n",
       "    <tr>\n",
       "      <th>3</th>\n",
       "      <td>629179223232479232</td>\n",
       "      <td>@microsoft</td>\n",
       "      <td>-1</td>\n",
       "      <td>Thanks to @microsoft, I just may be switching over to @apple.</td>\n",
       "    </tr>\n",
       "    <tr>\n",
       "      <th>4</th>\n",
       "      <td>629186282179153920</td>\n",
       "      <td>@microsoft</td>\n",
       "      <td>0</td>\n",
       "      <td>If I make a game as a #windows10 Universal App. Will #xboxone owners be able to download and play it in November? @majornelson @Microsoft</td>\n",
       "    </tr>\n",
       "  </tbody>\n",
       "</table>\n",
       "</div>"
      ],
      "text/plain": [
       "                   id       topic  score  \\\n",
       "0  628949369883000832  @microsoft     -1   \n",
       "1  628976607420645377  @microsoft     -2   \n",
       "2  629023169169518592  @microsoft     -1   \n",
       "3  629179223232479232  @microsoft     -1   \n",
       "4  629186282179153920  @microsoft      0   \n",
       "\n",
       "                                                                                                                                         text  \n",
       "0                                                         dear @Microsoft the newOoffice for Mac is great and all, but no Lync update? C'mon.  \n",
       "1    @Microsoft how about you make a system that doesn't eat my friggin discs. This is the 2nd time this has happened and I am so sick of it!  \n",
       "2  I may be ignorant on this issue but... should we celebrate @Microsoft's parental leave changes? Doesn't the gender divide suggest... (1/2)  \n",
       "3                                                                               Thanks to @microsoft, I just may be switching over to @apple.  \n",
       "4   If I make a game as a #windows10 Universal App. Will #xboxone owners be able to download and play it in November? @majornelson @Microsoft  "
      ]
     },
     "execution_count": 4,
     "metadata": {},
     "output_type": "execute_result"
    }
   ],
   "source": [
    "train_data.head(5)"
   ]
  },
  {
   "cell_type": "markdown",
   "metadata": {},
   "source": [
    "The fields are rather self-explaining. For the puproses of this notebook we will use the content of \"text\" and \"score\" columns. The \"topic\" column is very interesting for the task of quantification, that I will try to cover in another notebook."
   ]
  },
  {
   "cell_type": "code",
   "execution_count": 5,
   "metadata": {
    "collapsed": false
   },
   "outputs": [
    {
     "data": {
      "text/plain": [
       "60"
      ]
     },
     "execution_count": 5,
     "metadata": {},
     "output_type": "execute_result"
    }
   ],
   "source": [
    "# Lets count the different number of topics\n",
    "train_data.topic.nunique()"
   ]
  },
  {
   "cell_type": "code",
   "execution_count": 6,
   "metadata": {
    "collapsed": false
   },
   "outputs": [
    {
     "data": {
      "text/plain": [
       "(5, array([-1, -2,  0,  1,  2]))"
      ]
     },
     "execution_count": 6,
     "metadata": {},
     "output_type": "execute_result"
    }
   ],
   "source": [
    "# Verify that we are in a five-scale case\n",
    "train_data.score.nunique(),  train_data.score.unique()"
   ]
  },
  {
   "cell_type": "code",
   "execution_count": 8,
   "metadata": {
    "collapsed": false
   },
   "outputs": [
    {
     "data": {
      "image/png": "[encoded data removed]",
      "text/plain": [
       "<matplotlib.figure.Figure at 0x7f639c408410>"
      ]
     },
     "metadata": {},
     "output_type": "display_data"
    }
   ],
   "source": [
    "# plot the distribution of the scores across the dataset\n",
    "stats = Counter(train_data.score.values)\n",
    "plt.bar(stats.keys(), stats.values())\n",
    "plt.xlabel(\"Sentiment score\")\n",
    "plt.ylabel(\"Number of tweets\")\n",
    "plt.title(\"Distribution of scores in the train data\")\n",
    "plt.xticks(range(-2,3), [\"VeryNegative\", \"Negative\", \"Neutral\", \"Positive\", \"VeryPositive\"])\n",
    "plt.xlim([-2.5,2.5])\n",
    "plt.savefig(\"figures/score_distribution_training.svg\")"
   ]
  },
  {
   "cell_type": "markdown",
   "metadata": {},
   "source": [
    "As we can see in the data, most of the tweets are positive in terms of the sentiment they convey. This suggests that predicting positive for each tweets can be one of our baselines. \n",
    "\n",
    "Let's move on by visualizing the different sentiment polarities for each of the topics. To this end, we will find the topics that have mostly negative or positive tweets and visualize this distribution."
   ]
  },
  {
   "cell_type": "code",
   "execution_count": 9,
   "metadata": {
    "collapsed": false
   },
   "outputs": [
    {
     "data": {
      "text/html": [
       "<div>\n",
       "<style>\n",
       "    .dataframe thead tr:only-child th {\n",
       "        text-align: right;\n",
       "    }\n",
       "\n",
       "    .dataframe thead th {\n",
       "        text-align: left;\n",
       "    }\n",
       "\n",
       "    .dataframe tbody tr th {\n",
       "        vertical-align: top;\n",
       "    }\n",
       "</style>\n",
       "<table border=\"1\" class=\"dataframe\">\n",
       "  <thead>\n",
       "    <tr>\n",
       "      <th></th>\n",
       "      <th>topic</th>\n",
       "      <th colspan=\"2\" halign=\"left\">score</th>\n",
       "    </tr>\n",
       "    <tr>\n",
       "      <th></th>\n",
       "      <th></th>\n",
       "      <th>mean</th>\n",
       "      <th>std</th>\n",
       "    </tr>\n",
       "  </thead>\n",
       "  <tbody>\n",
       "    <tr>\n",
       "      <th>25</th>\n",
       "      <td>erdogan</td>\n",
       "      <td>-0.61</td>\n",
       "      <td>0.649709</td>\n",
       "    </tr>\n",
       "    <tr>\n",
       "      <th>45</th>\n",
       "      <td>jeb bush</td>\n",
       "      <td>-0.53</td>\n",
       "      <td>0.610597</td>\n",
       "    </tr>\n",
       "    <tr>\n",
       "      <th>37</th>\n",
       "      <td>hillary</td>\n",
       "      <td>-0.35</td>\n",
       "      <td>0.957427</td>\n",
       "    </tr>\n",
       "  </tbody>\n",
       "</table>\n",
       "</div>"
      ],
      "text/plain": [
       "       topic score          \n",
       "              mean       std\n",
       "25   erdogan -0.61  0.649709\n",
       "45  jeb bush -0.53  0.610597\n",
       "37   hillary -0.35  0.957427"
      ]
     },
     "execution_count": 9,
     "metadata": {},
     "output_type": "execute_result"
    }
   ],
   "source": [
    "train_data.groupby(\"topic\").agg({\"score\":[\"mean\", \"std\"]}).reset_index().sort_values((\"score\", \"mean\")).head(3)"
   ]
  },
  {
   "cell_type": "markdown",
   "metadata": {},
   "source": [
    "Lets visualize the distributions for these three, negative topics:"
   ]
  },
  {
   "cell_type": "code",
   "execution_count": 10,
   "metadata": {
    "collapsed": false
   },
   "outputs": [
    {
     "data": {
      "image/png": "[encoded data removed]",
      "text/plain": [
       "<matplotlib.figure.Figure at 0x7f639c458610>"
      ]
     },
     "metadata": {},
     "output_type": "display_data"
    },
    {
     "data": {
      "image/png": "[encoded data removed]",
      "text/plain": [
       "<matplotlib.figure.Figure at 0x7f6398bd0f10>"
      ]
     },
     "metadata": {},
     "output_type": "display_data"
    },
    {
     "data": {
      "image/png": "[encoded data removed]",
      "text/plain": [
       "<matplotlib.figure.Figure at 0x7f6398b6f490>"
      ]
     },
     "metadata": {},
     "output_type": "display_data"
    }
   ],
   "source": [
    "for _topic in [\"erdogan\", \"jeb bush\", \"hillary\"]:\n",
    "    plt.figure()\n",
    "    stats = Counter(train_data[train_data.topic == _topic].score.values)\n",
    "    plt.bar(stats.keys(), stats.values())\n",
    "    plt.xlabel(\"Sentiment score\")\n",
    "    plt.ylabel(\"Number of tweets\")\n",
    "    plt.title(\"Distribution of scores for '%s'\"%_topic)\n",
    "    plt.xticks(range(-2,3), [\"VeryNegative\", \"Negative\", \"Neutral\", \"Positive\", \"VeryPositive\"])\n",
    "    plt.xlim([-2.5,2.5])\n",
    "    plt.savefig(\"negative_%s.svg\"%_topic)"
   ]
  },
  {
   "cell_type": "markdown",
   "metadata": {},
   "source": [
    "We repeat the same process for the most positive topics.. We first identify them and then visualize the sentiment distributions."
   ]
  },
  {
   "cell_type": "code",
   "execution_count": 12,
   "metadata": {
    "collapsed": false
   },
   "outputs": [
    {
     "data": {
      "text/html": [
       "<div>\n",
       "<style>\n",
       "    .dataframe thead tr:only-child th {\n",
       "        text-align: right;\n",
       "    }\n",
       "\n",
       "    .dataframe thead th {\n",
       "        text-align: left;\n",
       "    }\n",
       "\n",
       "    .dataframe tbody tr th {\n",
       "        vertical-align: top;\n",
       "    }\n",
       "</style>\n",
       "<table border=\"1\" class=\"dataframe\">\n",
       "  <thead>\n",
       "    <tr>\n",
       "      <th></th>\n",
       "      <th>topic</th>\n",
       "      <th colspan=\"2\" halign=\"left\">score</th>\n",
       "    </tr>\n",
       "    <tr>\n",
       "      <th></th>\n",
       "      <th></th>\n",
       "      <th>mean</th>\n",
       "      <th>std</th>\n",
       "    </tr>\n",
       "  </thead>\n",
       "  <tbody>\n",
       "    <tr>\n",
       "      <th>1</th>\n",
       "      <td>ac/dc</td>\n",
       "      <td>1.16</td>\n",
       "      <td>0.662411</td>\n",
       "    </tr>\n",
       "    <tr>\n",
       "      <th>56</th>\n",
       "      <td>magic mike xxl</td>\n",
       "      <td>1.10</td>\n",
       "      <td>0.659047</td>\n",
       "    </tr>\n",
       "    <tr>\n",
       "      <th>15</th>\n",
       "      <td>bob marley</td>\n",
       "      <td>1.03</td>\n",
       "      <td>0.610597</td>\n",
       "    </tr>\n",
       "  </tbody>\n",
       "</table>\n",
       "</div>"
      ],
      "text/plain": [
       "             topic score          \n",
       "                    mean       std\n",
       "1            ac/dc  1.16  0.662411\n",
       "56  magic mike xxl  1.10  0.659047\n",
       "15      bob marley  1.03  0.610597"
      ]
     },
     "execution_count": 12,
     "metadata": {},
     "output_type": "execute_result"
    }
   ],
   "source": [
    "train_data.groupby(\"topic\").agg({\"score\":[\"mean\", \"std\"]}).reset_index().sort_values((\"score\", \"mean\"), ascending=False).head(3)"
   ]
  },
  {
   "cell_type": "code",
   "execution_count": 13,
   "metadata": {
    "collapsed": false
   },
   "outputs": [
    {
     "data": {
      "image/png": "[encoded data removed]",
      "text/plain": [
       "<matplotlib.figure.Figure at 0x7f6398b1d190>"
      ]
     },
     "metadata": {},
     "output_type": "display_data"
    },
    {
     "data": {
      "image/png": "[encoded data removed]",
      "text/plain": [
       "<matplotlib.figure.Figure at 0x7f6398df9790>"
      ]
     },
     "metadata": {},
     "output_type": "display_data"
    },
    {
     "data": {
      "image/png": "[encoded data removed]",
      "text/plain": [
       "<matplotlib.figure.Figure at 0x7f6398a52410>"
      ]
     },
     "metadata": {},
     "output_type": "display_data"
    }
   ],
   "source": [
    "for filename, _topic in zip([\"ac_dc\", \"magic_mike_xxl\", \"bob_marley\"], [\"ac/dc\", \"magic mike xxl\", \"bob marley\"]):\n",
    "    plt.figure()\n",
    "    stats = Counter(train_data[train_data.topic == _topic].score.values)\n",
    "    plt.bar(stats.keys(), stats.values())\n",
    "    plt.xlabel(\"Sentiment score\")\n",
    "    plt.ylabel(\"Number of tweets\")\n",
    "    plt.xticks(range(-2,3), [\"VeryNegative\", \"Negative\", \"Neutral\", \"Positive\", \"VeryPositive\"])\n",
    "    plt.xlim([-2.5,2.5])\n",
    "    plt.savefig(\"positive_%s.svg\"%filename)"
   ]
  },
  {
   "cell_type": "markdown",
   "metadata": {},
   "source": [
    "## Load test data and start by evaluating a dumb classifier. "
   ]
  },
  {
   "cell_type": "code",
   "execution_count": 15,
   "metadata": {
    "collapsed": false
   },
   "outputs": [
    {
     "name": "stderr",
     "output_type": "stream",
     "text": [
      "/home/ama/balikas/balikasENV/lib/python2.7/site-packages/ipykernel/__main__.py:4: ParserWarning: Falling back to the 'python' engine because the 'c' engine does not support regex separators (separators > 1 char and different from '\\s+' are interpreted as regex); you can avoid this warning by specifying engine='python'.\n"
     ]
    }
   ],
   "source": [
    "# Let's repeat the loading process with the test data.\n",
    "# Remember, we use the test data ONLY for evalution avoiding any type of ovefitting them.\n",
    "test_data = pd.read_csv(\"./2017_English_final/GOLD/Subtasks_CE/twitter-2016dev-CE.txt\", sep=\"\\t+\", encoding=\"utf8\", \n",
    "                          names=[\"id\", \"topic\", \"score\", \"text\"], )\n",
    "test_text, y_test = test_data.text.values, test_data.score.values"
   ]
  },
  {
   "cell_type": "markdown",
   "metadata": {},
   "source": [
    "Let's start by some out-of-the box systems\n",
    "1. Majority class\n",
    "2. CountVectorizer+Logistic Regression\n",
    "\n",
    "For simplicity we will report only one score, that is the score of the $F_1$ evaluation measure. More information for the f-score is available at https://en.wikipedia.org/wiki/F1_score. \n",
    "In our problem here we will report macro-averaged $F_1$ score, because we want to penalize our models if they only perform well on the majority classes. "
   ]
  },
  {
   "cell_type": "code",
   "execution_count": 18,
   "metadata": {
    "collapsed": false
   },
   "outputs": [
    {
     "name": "stdout",
     "output_type": "stream",
     "text": [
      "('Score of the majority baseline:', 0.12724173201500172)\n"
     ]
    }
   ],
   "source": [
    "# We noticed that Positive is the majority class, so we evaluate a super-simple system that always predicts 1.\n",
    "print(\"Score of the majority baseline:\", f1_score(y_test, np.ones(len(test_text)), average=\"macro\"))"
   ]
  },
  {
   "cell_type": "code",
   "execution_count": 22,
   "metadata": {
    "collapsed": false
   },
   "outputs": [
    {
     "name": "stdout",
     "output_type": "stream",
     "text": [
      "('Analysis if the baseline performance:', array([ 0.        ,  0.        ,  0.        ,  0.63620866,  0.        ]))\n"
     ]
    }
   ],
   "source": [
    "# If we want to see how the system performs for each of the classes: \n",
    "print(\"Analysis if the baseline performance:\", f1_score(y_test, np.ones(len(test_text)), average=None))\n",
    "# Notice that for the Positive we are doing quite well! \n",
    "# Also, to better understand macro-averaging notice that 0.6362/5=0.1272.. (our previous score!)"
   ]
  },
  {
   "cell_type": "markdown",
   "metadata": {},
   "source": [
    "## Building a standard text classifier using bag-of-words representation "
   ]
  },
  {
   "cell_type": "markdown",
   "metadata": {},
   "source": [
    "As said, a few steps are necessary: \n",
    "1. from text to vectors: tokenisation (split in words) + bag-of-words\n",
    "2. model selection: tune the free parameters of the model (e.g., the $C$ of SVM or Logistic Regression)\n",
    "3. evaluation: after model selection, transform the test data and report MaF$_1$ (macro-F$_1$ measure) \n",
    "\n",
    "We will start adapting our approach now for twitter data. \n",
    "We will start by using a custom tokenizer, where we will:\n",
    "    - normalize urls -> @url\n",
    "    - normalize mentions e.g., @balikasg -> @user\n",
    "    - do not lowercase emoticons, e.g., :-D remains :-D\n",
    "To achieve that we will write a tokenizer function to pass it at CountVectorizer/TfIdfVectorizer etc."
   ]
  },
  {
   "cell_type": "code",
   "execution_count": 24,
   "metadata": {
    "collapsed": true
   },
   "outputs": [],
   "source": [
    "from nltk import word_tokenize\n",
    "from nltk.tokenize import TweetTokenizer\n",
    "twitter_tokenizer = TweetTokenizer()\n",
    "\n",
    "\n",
    "def my_tokenizer(tweet, tokenizer = twitter_tokenizer, lowercase=True):\n",
    "    \"\"\"\n",
    "    Performs the tokenzation step. Adapted for Twitter.\n",
    "    Inputs\n",
    "    ------\n",
    "    tweet: string. A tweet to be tokenized.\n",
    "    tokenizer: a model that can tokenize text. Check nltk tokenizers for example (from nltk.tokenize import TweetTokenizer).\n",
    "    lowercase (default = True): if True, lowercse the words.\n",
    "    Returns\n",
    "    -------\n",
    "    A list of the words that appear in the tweet. \n",
    "    \"\"\"\n",
    "    tweet = re.sub(r\"(?:@[\\w_]+)\", 'user', tweet, flags= re.UNICODE) #mentions\n",
    "    tweet = re.sub(r'http\\S+', \"url\", tweet, flags= re.UNICODE) #urls\n",
    "    tweet = re.sub(r\"\\b(?:never|no|nothing|nowhere|noone|none|not|havent|haven't|hasnt|hasn't|hadnt|hadn't|cant|can't|couldnt|couldn't|shouldnt|shouldn't|wont|won't|wouldnt|wouldn't|dont|don't|doesnt|doesn't|didnt|didn't|isnt|isn't|arent|aren't|aint|ain't)\\b[\\w\\s]+[.,:;!?]\", \n",
    "       lambda match: re.sub(r'(\\s+)(\\w+)', r'\\1\\2_NEG', match.group(0)),tweet, flags=re.IGNORECASE) # spot negative context\n",
    "    words = tokenizer.tokenize(tweet) # split in words \n",
    "    if lowercase: # if true, lowercase words\n",
    "        words = map((lambda x :  x.lower()), words) # lowervase words\n",
    "        words = list(words)\n",
    "    return words # return the words of tweets as a list\n",
    "    "
   ]
  },
  {
   "cell_type": "code",
   "execution_count": 26,
   "metadata": {
    "collapsed": true
   },
   "outputs": [],
   "source": [
    "def get_grid_search_score(x_train, y_train, x_test, y_test, c_values = [0.1, 1, 10, 100], class_weight=\"balanced\"):\n",
    "    \"\"\"\n",
    "    Reports the MaF1 measure for Logistic Regression and SVM on the given data.\n",
    "    Performs grid search for the C value of SVMs and Logistic Regression. \n",
    "    The search is done using 3-fold stratified cross-validation. \n",
    "    Inputs\n",
    "    ------\n",
    "    x_train: np.array. Vectorized training data\n",
    "    y_train: np.array. The classes (categories) of each of the training instances\n",
    "    x_test: np.array. Vectorized test data\n",
    "    y_test: np.array. The classes (categories) of each of the test instances. Used for calculating MaF1 score\n",
    "    c_values (default: [0.1, 1, 10, 100]): list. The list of C values to be used for model selection\n",
    "    class_weight (default: \"balanced\"): None/\"balanced\" Whether to add class weights when optimizing the loss of the learner.\n",
    "    \n",
    "    Returns\n",
    "    -------\n",
    "    None.\n",
    "    It prints the score of the optimized model on the test data.\n",
    "    \"\"\"\n",
    "    for model_name, clf in zip([\"Logistic Regression\", \"SVM\"],[LogisticRegression(class_weight=class_weight), LinearSVC(class_weight=class_weight)]):\n",
    "        gs = GridSearchCV(clf, {\"C\":c_values}, scoring=\"f1_macro\",n_jobs=-1, cv=3)\n",
    "        gs.fit(x_train, y_train)\n",
    "        preds = gs.predict(x_test)\n",
    "        print(\"Score of %s:\"%model_name, f1_score(y_test, preds, average=\"macro\"))\n"
   ]
  },
  {
   "cell_type": "markdown",
   "metadata": {},
   "source": [
    "## Let's start without class weights\n",
    "\n",
    "In the following, we will evaluate a CountVectorizer with and without class weights. This is the simplest way to approach a text classification problem, and will be our realistic baseline!"
   ]
  },
  {
   "cell_type": "code",
   "execution_count": 16,
   "metadata": {
    "collapsed": false
   },
   "outputs": [
    {
     "name": "stdout",
     "output_type": "stream",
     "text": [
      "Scores without class weights (uniform)\n",
      "('Score of Logistic Regression:', 0.26693093874193219)\n",
      "('Score of SVM:', 0.26988237890323291)\n",
      "\n",
      "Scores with class weights\n",
      "('Score of Logistic Regression:', 0.28810193907769349)\n",
      "('Score of SVM:', 0.29252164748039899)\n"
     ]
    }
   ],
   "source": [
    "vectorizer = CountVectorizer(ngram_range=(1,1), tokenizer=my_tokenizer)\n",
    "x_train = vectorizer.fit_transform(x_train_text) # We (always) fit on the train part, \n",
    "\n",
    "# x_train = vectorizer.fit(x_train_text + test_text) # Fitting on their concatenation\n",
    "#is problematic as it assumes access to data you don't really have during the trainign phase.\n",
    "\n",
    "x_test = vectorizer.transform(test_text) # and predict on the test part of our data.\n",
    "\n",
    "x_train = normalize(x_train) #L2 per-row nomarlization\n",
    "x_test = normalize(x_test)\n",
    "\n",
    "print(\"Scores without class weights (uniform)\")\n",
    "get_grid_search_score(x_train, y_train, x_test, y_test, class_weight=None)\n",
    "print(\"\\nScores with class weights\")\n",
    "get_grid_search_score(x_train, y_train, x_test, y_test, class_weight=\"balanced\")\n"
   ]
  },
  {
   "cell_type": "markdown",
   "metadata": {},
   "source": [
    "By just using the CountVectorizer we have observed a dramatic improvement over our dummy baseline.\n",
    "\n",
    "What if we simply weight the words using the idf scheme?"
   ]
  },
  {
   "cell_type": "code",
   "execution_count": 17,
   "metadata": {
    "collapsed": false
   },
   "outputs": [
    {
     "name": "stdout",
     "output_type": "stream",
     "text": [
      "Scores without class weights (uniform)\n",
      "('Score of Logistic Regression:', 0.26072709581837311)\n",
      "('Score of SVM:', 0.26277752047881836)\n",
      "\n",
      "Scores with class weights\n",
      "('Score of Logistic Regression:', 0.3193118676355019)\n",
      "('Score of SVM:', 0.30317475325161281)\n"
     ]
    }
   ],
   "source": [
    "vectorizer = TfidfVectorizer(ngram_range=(1,1), tokenizer=my_tokenizer)\n",
    "x_train = vectorizer.fit_transform(train_data.text.values)\n",
    "x_test = vectorizer.transform(test_text)\n",
    "\n",
    "x_train = normalize(x_train)\n",
    "x_test = normalize(x_test)\n",
    "\n",
    "print(\"Scores without class weights (uniform)\")\n",
    "get_grid_search_score(x_train, y_train, x_test, y_test, class_weight=None)\n",
    "print(\"\\nScores with class weights\")\n",
    "get_grid_search_score(x_train, y_train, x_test, y_test, class_weight=\"balanced\")\n"
   ]
  },
  {
   "cell_type": "markdown",
   "metadata": {},
   "source": [
    "Ok, some minor improvements are observed when using the idf scheme, not at all bad when we just modified a simple line of code. \n",
    "\n",
    "Twitter however can be challenging due to the creative ways people use to express themselves in a few hunderds of characters. Let's start exploring subword information and, in particular, characer grams..\n",
    "\n",
    "In the next two cell we will repeat the process by building vector representations using characters grams of length from 3 letters untill 6 letters. We first run the code on simple counts (Countvectorizer) and then we also apply the idf weighting scheme."
   ]
  },
  {
   "cell_type": "code",
   "execution_count": 18,
   "metadata": {
    "collapsed": false
   },
   "outputs": [
    {
     "name": "stdout",
     "output_type": "stream",
     "text": [
      "Scores without class weights (uniform)\n",
      "('Score of Logistic Regression:', 0.30316913415193208)\n",
      "('Score of SVM:', 0.30011137465070614)\n",
      "\n",
      "Scores with class weights\n",
      "('Score of Logistic Regression:', 0.30716422545900252)\n",
      "('Score of SVM:', 0.30939877625071605)\n"
     ]
    }
   ],
   "source": [
    "vectorizer = CountVectorizer(ngram_range=(3,6), analyzer=\"char\",  tokenizer=my_tokenizer)\n",
    "x_train = vectorizer.fit_transform(train_data.text.values)\n",
    "x_test = vectorizer.transform(test_text)\n",
    "\n",
    "\n",
    "x_train = normalize(x_train)\n",
    "x_test = normalize(x_test)\n",
    "\n",
    "print(\"Scores without class weights (uniform)\")\n",
    "get_grid_search_score(x_train, y_train, x_test, y_test, class_weight=None)\n",
    "print(\"\\nScores with class weights\")\n",
    "get_grid_search_score(x_train, y_train, x_test, y_test, class_weight=\"balanced\")\n"
   ]
  },
  {
   "cell_type": "code",
   "execution_count": 19,
   "metadata": {
    "collapsed": false
   },
   "outputs": [
    {
     "name": "stdout",
     "output_type": "stream",
     "text": [
      "Scores without class weights (uniform)\n",
      "('Score of Logistic Regression:', 0.28345953744599578)\n",
      "('Score of SVM:', 0.30440115323798517)\n",
      "\n",
      "Scores with class weights\n",
      "('Score of Logistic Regression:', 0.30987685014266819)\n",
      "('Score of SVM:', 0.31325753937887335)\n"
     ]
    }
   ],
   "source": [
    "vectorizer = TfidfVectorizer(ngram_range=(3,6), analyzer=\"char\",  tokenizer=my_tokenizer)\n",
    "x_train = vectorizer.fit_transform(train_data.text.values)\n",
    "x_test = vectorizer.transform(test_text)\n",
    "\n",
    "x_train = normalize(x_train)\n",
    "x_test = normalize(x_test)\n",
    "\n",
    "print(\"Scores without class weights (uniform)\")\n",
    "get_grid_search_score(x_train, y_train, x_test, y_test, class_weight=None)\n",
    "print(\"\\nScores with class weights\")\n",
    "get_grid_search_score(x_train, y_train, x_test, y_test, class_weight=\"balanced\")\n",
    "\n"
   ]
  },
  {
   "cell_type": "markdown",
   "metadata": {},
   "source": [
    "## We have explored basic word features, now compile more features"
   ]
  },
  {
   "cell_type": "markdown",
   "metadata": {},
   "source": [
    "1. exclamation marks\n",
    "2. question marks\n",
    "2. question and exclamation marks\n",
    "2. positive emoticons\n",
    "2. negative emoticons\n",
    "2. Fully capitalized words (GREAT)\n",
    "2. elongated words, loooong\n",
    "2. words in negative contexts\n",
    "\n",
    "The functions below implement those features."
   ]
  },
  {
   "cell_type": "code",
   "execution_count": 28,
   "metadata": {
    "collapsed": true
   },
   "outputs": [],
   "source": [
    "def allCaps(words):\n",
    "    \"\"\" Input: list of words, Output: how many are all caps \"\"\"\n",
    "    return len([word for word in words if word.isupper()])\n",
    "\n",
    "def elongated(words):\n",
    "    \"\"\" Input: list of words, Output: how many are elongated \"\"\"\n",
    "    return len([word for word in words if re.search(r\"(.)\\1{2}\", word.lower())])\n",
    "\n",
    "def exclamations(tweet):\n",
    "    \"\"\" Input: a tweet, Output: how many exclamations \"\"\"\n",
    "    return len(re.findall(\"!+\", tweet))\n",
    "\n",
    "def questions(tweet):\n",
    "    \"\"\" Input: a tweet, Output: how many question marks \"\"\"\n",
    "    return len(re.findall(\"\\?+\", tweet))\n",
    "\n",
    "def questions_and_exclamation(tweet):\n",
    "    \"\"\" Input: a tweet, Output: how many question marks and exclamation marks\"\"\"\n",
    "    return len(re.findall(\"[\\?,!]+\", tweet))\n",
    "\n",
    "def words_in_neg_context(words):\n",
    "    \"\"\" Input: list of words, Output: how many are elongated \"\"\"\n",
    "    return len([word for word in words if word.endswith(\"_NEG\")])\n",
    "\n",
    "def emoticon_positive(tweet):\n",
    "    \"\"\" Input: a tweet, Output: (binary) positive emoticons exist \"\"\"\n",
    "    emoticon_string = r\"\"\"\n",
    "    (?:\n",
    "      [<>]?\n",
    "      [:;=8]                     # eyes\n",
    "      [\\-o\\*\\']?                 # optional nose\n",
    "      [\\)\\]dD\\}@]                # mouth      \n",
    "      |                          # reverse order now! \n",
    "      [\\)\\]dD\\}@]                # mouth\n",
    "      [\\-o\\*\\']?                 # optional nose\n",
    "      [:;=8]                     # eyes\n",
    "      [<>]?\n",
    "    )\"\"\"\n",
    "    emoticon_re = re.compile(emoticon_string, re.VERBOSE | re.I | re.UNICODE)\n",
    "    return len(emoticon_re.findall(tweet)) > 0\n",
    "\n",
    "def emoticon_negative(tweet):\n",
    "    \"\"\" Input: a tweet, Output: (binary) negative emoticons exist \"\"\"\n",
    "    emoticon_string = r\"\"\"\n",
    "    (?:\n",
    "      [<>]?\n",
    "      [:;=8]                     # eyes\n",
    "      [\\-o\\*\\']?                 # optional nose\n",
    "      [\\(\\[pP/\\:\\{\\|] # mouth      \n",
    "      |                          # reverse order now! \n",
    "      [\\)\\]\\(\\[dDpP/\\:\\}\\{@\\|\\\\] # mouth\n",
    "      [\\-o\\*\\']?                 # optional nose\n",
    "      [:;=8]                     # eyes\n",
    "      [<>]?\n",
    "    )\"\"\"\n",
    "    emoticon_re = re.compile(emoticon_string, re.VERBOSE | re.I | re.UNICODE)\n",
    "    return len(emoticon_re.findall(tweet)) > 0\n",
    "\n",
    "\n",
    "def getBingLiusCounters(positive, negative, tokenized_tweet):\n",
    "    \"\"\"\n",
    "    Uses the bing lius sentiment lexicons and calculates several counts..\n",
    "    The lexicon is available at: https://www.cs.uic.edu/~liub/FBS/sentiment-analysis.html\n",
    "    \"\"\"\n",
    "    positive_words_pos_context = len([w for w in tokenized_tweet if w in positive_words])\n",
    "    negative_words_pos_context = len([w for w in tokenized_tweet if w in negative_words])\n",
    "    positive_words_uppercase = len([w for w in tokenized_tweet if w.lower() in positive_words and w.isupper()])\n",
    "    negative_words_uppercase = len([w for w in tokenized_tweet if w.lower() in negative_words and w.isupper()])\n",
    "    positive_words_hashtags = len([w for w in tokenized_tweet if w[1:] in positive_words and w.startswith(\"#\")])\n",
    "    negative_words_hashtags = len([w for w in tokenized_tweet if w[1:] in negative_words and w.startswith(\"#\")])\n",
    "    positive_words_hashtags_upper = len([w for w in tokenized_tweet if w[1:] in positive_words and w.startswith(\"#\") and w.isupper()])\n",
    "    negative_words_hashtags_upper = len([w for w in tokenized_tweet if w[1:] in negative_words and w.startswith(\"#\") and w.isupper()])\n",
    "    \n",
    "    positive_words_neg_context = len([w for w in tokenized_tweet if w[:-4] in positive_words and w.endswith(\"_NEG\")])\n",
    "    negative_words_neg_context = len([w for w in tokenized_tweet if w.strip(\"_NEG\") in negative_words and w.endswith(\"_NEG\")])\n",
    "    # more things can be added here but the point is made\n",
    "    \n",
    "    return [positive_words_pos_context, negative_words_pos_context, positive_words_uppercase, negative_words_uppercase, \\\n",
    "            positive_words_hashtags, negative_words_hashtags, positive_words_hashtags_upper, negative_words_hashtags_upper, \\\n",
    "            positive_words_neg_context, negative_words_neg_context]\n"
   ]
  },
  {
   "cell_type": "code",
   "execution_count": 21,
   "metadata": {
    "collapsed": true
   },
   "outputs": [],
   "source": [
    "# Load the positive and negative words, downloaded from Bing Lius website: https://www.cs.uic.edu/~liub/FBS/sentiment-analysis.html\n",
    "positive_words = set(open(\"./lexicons/bing_liu/positive-words_bing_liu.txt\").read().splitlines())\n",
    "negative_words = set(open(\"./lexicons/bing_liu/negative-words_bing_liu.txt\").read().splitlines())\n"
   ]
  },
  {
   "cell_type": "code",
   "execution_count": 23,
   "metadata": {
    "collapsed": false
   },
   "outputs": [],
   "source": [
    "def get_handmade_features(tweet):\n",
    "    \"\"\"\n",
    "    Returns for a tweet the hand-designed features.\n",
    "    Inputs\n",
    "    ------\n",
    "    tweet: string. The tweet to be tokenized\n",
    "    Returns:\n",
    "    features: list. A list of handmade features\n",
    "    \"\"\"\n",
    "    tokens = my_tokenizer(tweet, lowercase = False)    \n",
    "    bing_lius = getBingLiusCounters(positive_words, negative_words, tokens)\n",
    "    return [words_in_neg_context(tokens), allCaps(tokens), elongated(tokens), exclamations(tweet), questions(tweet), questions_and_exclamation(tweet),\n",
    "           int(emoticon_positive(tweet)), int(emoticon_negative(tweet))] +bing_lius\n",
    "\n",
    "special_features_train = np.array([get_handmade_features(tweet) for tweet in train_data.text.values])\n",
    "special_features_test = np.array([get_handmade_features(tweet) for tweet in test_data.text.values])\n"
   ]
  },
  {
   "cell_type": "markdown",
   "metadata": {},
   "source": [
    "Ok.. to this point we saw an example of a lexicon, and examples of several manually designed features. \n",
    "We can now move by doing part of Speech tagging to obtain the POS tags of each word in out tweet. \n",
    "There are several tools for this, me favourity is spacy, which is extremely fast and accurate. "
   ]
  },
  {
   "cell_type": "code",
   "execution_count": 24,
   "metadata": {
    "collapsed": false
   },
   "outputs": [],
   "source": [
    "import spacy\n",
    "nlp = spacy.load('en', disable=['parser',  'ner'])\n",
    "pos_tags_train = [[token.pos_ for token in nlp(unicode(tweet))] for tweet in train_data.text.values]\n",
    "pos_tags_test = [[token.pos_ for token in nlp(unicode(tweet))] for tweet in test_data.text.values]\n",
    "different_pos_tags = [\"ADJ\", \"NOUN\", \"VERB\"]\n",
    "pos_distribution_train, pos_distribution_test = [], []\n",
    "for pos_of_tweet in pos_tags_train:\n",
    "    pos_distribution_train.append( [pos_of_tweet.count(x) for x in different_pos_tags])\n",
    "    \n",
    "for pos_of_tweet in pos_tags_test:\n",
    "    pos_distribution_test.append( [pos_of_tweet.count(x) for x in different_pos_tags])\n"
   ]
  },
  {
   "cell_type": "markdown",
   "metadata": {},
   "source": [
    "Having the feature extraction functions in place, let's see what the new features bring!"
   ]
  },
  {
   "cell_type": "code",
   "execution_count": 25,
   "metadata": {
    "collapsed": false
   },
   "outputs": [
    {
     "name": "stdout",
     "output_type": "stream",
     "text": [
      "Scores without class weights (uniform)\n",
      "('Score of Logistic Regression:', 0.26259602433447993)\n",
      "('Score of SVM:', 0.29399379633858708)\n",
      "\n",
      "Scores with class weights\n",
      "('Score of Logistic Regression:', 0.33626631439811411)\n",
      "('Score of SVM:', 0.32399301052666141)\n"
     ]
    }
   ],
   "source": [
    "vectorizer = TfidfVectorizer(ngram_range=(3,6), analyzer=\"char\", tokenizer=my_tokenizer,)\n",
    "x_train = vectorizer.fit_transform(train_data.text.values)\n",
    "x_test = vectorizer.transform(test_text)\n",
    "\n",
    "x_train =  hstack((x_train, special_features_train, pos_distribution_train))\n",
    "x_test = hstack((x_test, special_features_test, pos_distribution_test))\n",
    "x_train = normalize(x_train)\n",
    "x_test = normalize(x_test)\n",
    "\n",
    "print(\"Scores without class weights (uniform)\")\n",
    "get_grid_search_score(x_train, y_train, x_test, y_test, class_weight=None)\n",
    "print(\"\\nScores with class weights\")\n",
    "get_grid_search_score(x_train, y_train, x_test, y_test, class_weight=\"balanced\")\n"
   ]
  },
  {
   "cell_type": "code",
   "execution_count": 26,
   "metadata": {
    "collapsed": false
   },
   "outputs": [
    {
     "name": "stdout",
     "output_type": "stream",
     "text": [
      "('Score of Logistic Regression:', 0.3235947420014707)\n",
      "('Score of SVM:', 0.32711297492942931)\n"
     ]
    }
   ],
   "source": [
    "# The number \"features\" below ashould be grid-searched. Here, we are using for simplicity a number found with trial/error \n",
    "features = 19000\n",
    "vectorizer = TfidfVectorizer(ngram_range=(3,6), analyzer=\"char\", tokenizer=my_tokenizer, max_features=features)\n",
    "x_train_uni = vectorizer.fit_transform(train_data.text.values)\n",
    "x_test_uni = vectorizer.transform(test_text)\n",
    "\n",
    "vectorizer = TfidfVectorizer(ngram_range=(1,1), analyzer=\"word\", tokenizer=my_tokenizer, max_features=features)\n",
    "x_train_char = vectorizer.fit_transform(train_data.text.values)\n",
    "x_test_char = vectorizer.transform(test_text)\n",
    "\n",
    "x_train =  normalize(hstack((x_train_uni, x_train_char, special_features_train, pos_distribution_train)))\n",
    "x_test = normalize(hstack((x_test_uni, x_test_char, special_features_test, pos_distribution_test)))\n",
    "\n",
    "get_grid_search_score(x_train, y_train, x_test, y_test, class_weight=\"balanced\")\n",
    "    "
   ]
  },
  {
   "cell_type": "markdown",
   "metadata": {},
   "source": [
    "Yeahhh! Better!\n",
    "\n",
    "Not bad at all! Great Improvement with a small (programmatic) effort! We can definitely do better on this step, and add much more features.. But the point is just to demonstrate the rationale here..\n",
    "\n",
    "\n",
    "# An approach powered by word embeddings"
   ]
  },
  {
   "cell_type": "markdown",
   "metadata": {},
   "source": [
    "Word embeddings are considered a good practise for most of the NLP problems. In the next few lines of code, we are exploring how FastText embeddings perform on the task. \n",
    "\n",
    "More information on the FastText embeddings and how they are learned can be found at: https://fasttext.cc/\n",
    "\n",
    "To load and process them we will use Gensim, which offers convenient functionality for this purpose and can be used (out-of-the-box) with various embeddings (those of the w2v tool, Glove, FastText..)"
   ]
  },
  {
   "cell_type": "code",
   "execution_count": 27,
   "metadata": {
    "collapsed": true
   },
   "outputs": [],
   "source": [
    "from gensim.models.wrappers import FastText\n",
    "model = FastText.load_fasttext_format(\"./wiki.en.bin\")"
   ]
  },
  {
   "cell_type": "code",
   "execution_count": 28,
   "metadata": {
    "collapsed": true
   },
   "outputs": [],
   "source": [
    "# From now-on we will be using TwitterTokenizer, to avoid adding _NEG\n",
    "def my_tokenizer(tweet, tokenizer = twitter_tokenizer, lowercase=True):\n",
    "    tweet = re.sub(r\"(?:@[\\w_]+)\", 'user', tweet, flags= re.UNICODE) #mentions\n",
    "    tweet = re.sub(r'http\\S+', \"url\", tweet, flags= re.UNICODE) #urls\n",
    "    words = tokenizer.tokenize(tweet)\n",
    "    if lowercase:\n",
    "        words = map((lambda x :  x.lower()), words) # lowervase words\n",
    "        words = list(words)\n",
    "    return words"
   ]
  },
  {
   "cell_type": "code",
   "execution_count": 30,
   "metadata": {
    "collapsed": true
   },
   "outputs": [],
   "source": [
    "def tweet_embedding(model, tweet ):\n",
    "    \"\"\"\n",
    "    Returns the tweet representation, as the average of the vectors of the words of the tweet.\n",
    "    Inputs\n",
    "    ------\n",
    "    model: dictionary or Gensim model. Association of words to their embeddings\n",
    "    tweet: string. Tweet to be tokenized\n",
    "    \n",
    "    Returns\n",
    "    -------\n",
    "    np.array: the tweet representation\n",
    "    \"\"\"\n",
    "    tokens = my_tokenizer(tweet)\n",
    "    representation = []\n",
    "    for token in tokens:\n",
    "        try:\n",
    "            representation.append(model[token])\n",
    "        except:\n",
    "            pass \n",
    "    if len(representation):\n",
    "        return np.average(representation, axis=0)\n",
    "    else:\n",
    "        return np.zeros(300)\n",
    "\n",
    "    \n",
    "def tweet_embedding_only_voc(model, tweet ):\n",
    "    \"\"\"\n",
    "    Returns the tweet representation, as the average of the vectors of the words of the tweet.\n",
    "    Specific function for FastText, that disables predicting word embeddings from character-ngrams. \n",
    "    Inputs\n",
    "    ------\n",
    "    model: dictionary or Gensim model. Association of words to their embeddings\n",
    "    tweet: string. Tweet to be tokenized\n",
    "    \n",
    "    Returns\n",
    "    -------\n",
    "    np.array: the tweet representation\n",
    "    \"\"\"\n",
    "    tokens = my_tokenizer(tweet)\n",
    "    representation = []\n",
    "    for token in tokens:\n",
    "        if token in model.wv.vocab:\n",
    "            representation.append(model[token])\n",
    "    if len(representation):\n",
    "        return np.average(representation, axis=0)\n",
    "    else:\n",
    "        return np.zeros(300)\n"
   ]
  },
  {
   "cell_type": "code",
   "execution_count": 31,
   "metadata": {
    "collapsed": false
   },
   "outputs": [
    {
     "name": "stderr",
     "output_type": "stream",
     "text": [
      "/home/ama/balikas/balikasENV/lib/python2.7/site-packages/ipykernel/__main__.py:6: DeprecationWarning: Call to deprecated `__getitem__` (Method will be removed in 4.0.0, use self.wv.__getitem__() instead).\n"
     ]
    }
   ],
   "source": [
    "# Let's obtain the embedding representation of the tweets\n",
    "train_emb = np.array([tweet_embedding(model, tweet ) for tweet in train_data.text.values])\n",
    "test_emb = np.array([tweet_embedding(model, tweet) for tweet in  test_text])"
   ]
  },
  {
   "cell_type": "code",
   "execution_count": 32,
   "metadata": {
    "collapsed": false
   },
   "outputs": [
    {
     "name": "stdout",
     "output_type": "stream",
     "text": [
      "('Score of Logistic Regression:', 0.32274493354732831)\n",
      "('Score of SVM:', 0.26810722578194601)\n",
      "('Score of Logistic Regression:', 0.34533590419795257)\n",
      "('Score of SVM:', 0.33583568598928293)\n"
     ]
    }
   ],
   "source": [
    "#Let's test them! Here FastText predicts embeddings for OOV\n",
    "get_grid_search_score(train_emb, y_train, test_emb, y_test, class_weight=None)\n",
    "get_grid_search_score(train_emb, y_train, test_emb, y_test, class_weight=\"balanced\")"
   ]
  },
  {
   "cell_type": "code",
   "execution_count": 33,
   "metadata": {
    "collapsed": false
   },
   "outputs": [
    {
     "name": "stderr",
     "output_type": "stream",
     "text": [
      "/home/ama/balikas/balikasENV/lib/python2.7/site-packages/ipykernel/__main__.py:20: DeprecationWarning: Call to deprecated `__getitem__` (Method will be removed in 4.0.0, use self.wv.__getitem__() instead).\n"
     ]
    }
   ],
   "source": [
    "#Let's obtain the embedding representation of the tweets without the default FastText behaviour of OOV\n",
    "train_emb = np.array([tweet_embedding_only_voc(model, tweet,) for tweet in train_data.text.values])\n",
    "test_emb = np.array([tweet_embedding_only_voc(model, tweet, ) for tweet in  test_text])"
   ]
  },
  {
   "cell_type": "code",
   "execution_count": 34,
   "metadata": {
    "collapsed": false
   },
   "outputs": [
    {
     "name": "stdout",
     "output_type": "stream",
     "text": [
      "('Score of Logistic Regression:', 0.30740812851201932)\n",
      "('Score of SVM:', 0.31134490003179061)\n",
      "('Score of Logistic Regression:', 0.3614991122414703)\n",
      "('Score of SVM:', 0.35504169694061771)\n"
     ]
    }
   ],
   "source": [
    "get_grid_search_score(train_emb, y_train, test_emb, y_test, class_weight=None)\n",
    "get_grid_search_score(train_emb, y_train, test_emb, y_test, class_weight=\"balanced\")"
   ]
  },
  {
   "cell_type": "markdown",
   "metadata": {},
   "source": [
    "This is a striking result to me.. Disabling OOV embeddings prediction actually improved the result a lot. Need to better see why this is happening. \n",
    "\n",
    "Notice however tha for both cases, embeddings performed much better than bag-of-words! Hence, it is an adviced approach for the problem. \n",
    "\n",
    "Now, to conclude, let's test whether by combining both worlds we gain something! "
   ]
  },
  {
   "cell_type": "code",
   "execution_count": 41,
   "metadata": {
    "collapsed": false
   },
   "outputs": [
    {
     "name": "stdout",
     "output_type": "stream",
     "text": [
      "\n",
      "Scores with class weights\n",
      "('Score of Logistic Regression:', 0.37469022993670659)\n",
      "('Score of SVM:', 0.37137153666242406)\n"
     ]
    }
   ],
   "source": [
    "vectorizer = TfidfVectorizer(ngram_range=(1,1), analyzer=\"word\", tokenizer=my_tokenizer)\n",
    "x_train = vectorizer.fit_transform(train_data.text.values)\n",
    "x_test = vectorizer.transform(test_text)\n",
    "\n",
    "x_train =  hstack((x_train,  train_emb))\n",
    "x_test = hstack((x_test, test_emb))\n",
    "x_train = normalize(x_train)\n",
    "x_test = normalize(x_test)\n",
    "\n",
    "print(\"\\nScores with class weights\")\n",
    "get_grid_search_score(x_train, y_train, x_test, y_test, class_weight=\"balanced\")\n"
   ]
  },
  {
   "cell_type": "markdown",
   "metadata": {},
   "source": [
    "As in most cases, combining both worlds is beneficial! \n",
    "\n",
    "There can be several extensions of this work: \n",
    "1. Add special features to embeddings\n",
    "2. Try other types of embeddings\n",
    "3. Try other ways of learning the embedding of a tweet. These are called compositional functions. Here we used averaging for this purpose but one can come up we more/better approaches\n",
    "4. Try other learning methods.. Neural Nets, Trees...\n",
    "5. Examine how the above described steps behave when optimizing a nother measure like Accuracy, Micro-F-Measure etc. "
   ]
  },
  {
   "cell_type": "markdown",
   "metadata": {},
   "source": [
    "## References\n",
    "\n",
    "- S. Kiritchenko,  X. Zhu and S. Mohammad: Sentiment analysis of short informal texts. JAIR, 2014\n",
    "- G. Balikas and MR Amini: TwiSE at SemEval-2016 Task 4: Twitter Sentiment Classification, SemEval, 2016\n",
    "- G. Balikas, S. Moura, MR Amini: Multitask Learning for Fine-Grained Twitter Sentiment Analysis, SIGIR, 2016\n",
    "- A. Radford, R. Jozefowicz, I. Sutskever: Learning to generate reviews and discovering sentiment, Arxiv, 2017\n",
    "- W. Gao, F. Sebastiani: Tweet sentiment: From classification to quantification, ASONAM, 2015\n",
    "- S. Rosenthal, N. Farra, P. Nakov: SemEval-2017 task 4: Sentiment analysis in Twitter"
   ]
  }
 ],
 "metadata": {
  "kernelspec": {
   "display_name": "Python 2",
   "language": "python",
   "name": "python2"
  },
  "language_info": {
   "codemirror_mode": {
    "name": "ipython",
    "version": 2
   },
   "file_extension": ".py",
   "mimetype": "text/x-python",
   "name": "python",
   "nbconvert_exporter": "python",
   "pygments_lexer": "ipython2",
   "version": "2.7.9"
  }
 },
 "nbformat": 4,
 "nbformat_minor": 2
}
